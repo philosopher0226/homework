{
  "nbformat": 4,
  "nbformat_minor": 0,
  "metadata": {
    "colab": {
      "name": "Untitled4.ipynb",
      "provenance": [],
      "include_colab_link": true
    },
    "kernelspec": {
      "name": "python3",
      "display_name": "Python 3"
    }
  },
  "cells": [
    {
      "cell_type": "markdown",
      "metadata": {
        "id": "view-in-github",
        "colab_type": "text"
      },
      "source": [
        "<a href=\"https://colab.research.google.com/github/philosopher0226/homework/blob/master/%EC%97%B4%EC%9C%A0%EC%B2%B4%EA%B3%B5%ED%95%99%EC%8B%A4%ED%97%98-201401076-HW04.ipynb\" target=\"_parent\"><img src=\"https://colab.research.google.com/assets/colab-badge.svg\" alt=\"Open In Colab\"/></a>"
      ]
    },
    {
      "cell_type": "code",
      "metadata": {
        "id": "kwLNjFaaSf0Y",
        "colab_type": "code",
        "colab": {
          "base_uri": "https://localhost:8080/",
          "height": 161
        },
        "outputId": "73592eea-c116-4d93-c571-d66e810927e2"
      },
      "source": [
        "import numpy as np\n",
        "x = np.arange(9)\n",
        "x = x+1\n",
        "print (\"2단 =\", x*2)\n",
        "print (\"3단 =\", x*3)\n",
        "print (\"4단 =\", x*4)\n",
        "print (\"5단 =\", x*5)\n",
        "print (\"6단 =\", x*6)\n",
        "print (\"7단 =\", x*7)\n",
        "print (\"8단 =\", x*8)\n",
        "print (\"9단 =\", x*9)"
      ],
      "execution_count": 5,
      "outputs": [
        {
          "output_type": "stream",
          "text": [
            "2단 [ 2  4  6  8 10 12 14 16 18]\n",
            "3단= [ 3  6  9 12 15 18 21 24 27]\n",
            "4단= [ 4  8 12 16 20 24 28 32 36]\n",
            "5단= [ 5 10 15 20 25 30 35 40 45]\n",
            "6단= [ 6 12 18 24 30 36 42 48 54]\n",
            "7단= [ 7 14 21 28 35 42 49 56 63]\n",
            "8단= [ 8 16 24 32 40 48 56 64 72]\n",
            "9단= [ 9 18 27 36 45 54 63 72 81]\n"
          ],
          "name": "stdout"
        }
      ]
    }
  ]
}