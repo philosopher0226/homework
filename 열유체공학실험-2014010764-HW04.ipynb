{
  "nbformat": 4,
  "nbformat_minor": 0,
  "metadata": {
    "colab": {
      "name": "Untitled2.ipynb",
      "provenance": [],
      "include_colab_link": true
    },
    "kernelspec": {
      "name": "python3",
      "display_name": "Python 3"
    }
  },
  "cells": [
    {
      "cell_type": "markdown",
      "metadata": {
        "id": "view-in-github",
        "colab_type": "text"
      },
      "source": [
        "<a href=\"https://colab.research.google.com/github/philosopher0226/homework/blob/master/%EC%97%B4%EC%9C%A0%EC%B2%B4%EA%B3%B5%ED%95%99%EC%8B%A4%ED%97%98-2014010764-HW04.ipynb\" target=\"_parent\"><img src=\"https://colab.research.google.com/assets/colab-badge.svg\" alt=\"Open In Colab\"/></a>"
      ]
    },
    {
      "cell_type": "code",
      "metadata": {
        "id": "0oPKqII5SY_O",
        "colab_type": "code",
        "colab": {}
      },
      "source": [
        "def function_1(x):\n",
        "  while True:\n",
        "    x = int(input(\"숫자를 입력하시오: \"))\n",
        "    for i in range(1,10):\n",
        "      print (x, \"X\", i, \"=\", x*i)\n",
        "    break\n",
        "\n"
      ],
      "execution_count": 0,
      "outputs": []
    },
    {
      "cell_type": "code",
      "metadata": {
        "id": "zd_aJ0LpiNeD",
        "colab_type": "code",
        "colab": {}
      },
      "source": [
        "def function_2(x):\n",
        "    import numpy as np\n",
        "    y = np.arange(1,10)\n",
        "    x = int(input(\"숫자를 입력하시오: \"))\n",
        "    print (int(x), \"X\", y[0], \"=\", int(x)*1)\n",
        "    print (int(x), \"X\", y[1], \"=\", int(x)*2)\n",
        "    print (int(x), \"X\", y[2], \"=\", int(x)*3)\n",
        "    print (int(x), \"X\", y[3], \"=\", int(x)*4)\n",
        "    print (int(x), \"X\", y[4], \"=\", int(x)*5)\n",
        "    print (int(x), \"X\", y[5], \"=\", int(x)*6)\n",
        "    print (int(x), \"X\", y[6], \"=\", int(x)*7)\n",
        "    print (int(x), \"X\", y[7], \"=\", int(x)*8)\n",
        "    print (int(x), \"X\", y[8], \"=\", int(x)*9)"
      ],
      "execution_count": 0,
      "outputs": []
    },
    {
      "cell_type": "code",
      "metadata": {
        "id": "7JtH4juIhz-v",
        "colab_type": "code",
        "colab": {}
      },
      "source": [
        "function_1(3)\n",
        "%timeit function_1(3) # 루프 6번 돌때 가장 빠른 3루프 출력\n"
      ],
      "execution_count": 0,
      "outputs": []
    },
    {
      "cell_type": "code",
      "metadata": {
        "id": "j7bTzs2Rklgk",
        "colab_type": "code",
        "colab": {}
      },
      "source": [
        "function_2(3)\n",
        "%timeit function_2(3) # 루프 6번 돌때 가장 빠른 3루프 출력"
      ],
      "execution_count": 0,
      "outputs": []
    },
    {
      "cell_type": "code",
      "metadata": {
        "id": "HOaR5c4giVS5",
        "colab_type": "code",
        "colab": {}
      },
      "source": [
        "import numba\n",
        "function_1_jit = numba.jit(function_1)\n",
        "function_1_jit(3)\n",
        "%timeit function_1_jit(3) # 루프 6번 돌때 가장 빠른 3루프 출력"
      ],
      "execution_count": 0,
      "outputs": []
    }
  ]
}